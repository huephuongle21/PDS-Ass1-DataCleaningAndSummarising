{
 "cells": [
  {
   "cell_type": "markdown",
   "metadata": {
    "id": "u-EEv9utoT69"
   },
   "source": [
    "# Task 1: Data Preparation"
   ]
  },
  {
   "cell_type": "code",
   "execution_count": 1,
   "metadata": {
    "id": "Qykq4YuQtZUS"
   },
   "outputs": [],
   "source": [
    "# Import pandas library\n",
    "import pandas as pd\n",
    "import matplotlib.pyplot as plt\n",
    "import numpy as np\n",
    "import seaborn as sns\n",
    "import matplotlib"
   ]
  },
  {
   "cell_type": "code",
   "execution_count": 2,
   "metadata": {
    "id": "RhLG8LgxsFd7"
   },
   "outputs": [
    {
     "data": {
      "text/html": [
       "<div>\n",
       "<style scoped>\n",
       "    .dataframe tbody tr th:only-of-type {\n",
       "        vertical-align: middle;\n",
       "    }\n",
       "\n",
       "    .dataframe tbody tr th {\n",
       "        vertical-align: top;\n",
       "    }\n",
       "\n",
       "    .dataframe thead th {\n",
       "        text-align: right;\n",
       "    }\n",
       "</style>\n",
       "<table border=\"1\" class=\"dataframe\">\n",
       "  <thead>\n",
       "    <tr style=\"text-align: right;\">\n",
       "      <th></th>\n",
       "      <th>Rk</th>\n",
       "      <th>Player</th>\n",
       "      <th>Pos</th>\n",
       "      <th>Age</th>\n",
       "      <th>Tm</th>\n",
       "      <th>G</th>\n",
       "      <th>GS</th>\n",
       "      <th>MP</th>\n",
       "      <th>FG</th>\n",
       "      <th>FGA</th>\n",
       "      <th>...</th>\n",
       "      <th>FT%</th>\n",
       "      <th>ORB</th>\n",
       "      <th>DRB</th>\n",
       "      <th>TRB</th>\n",
       "      <th>AST</th>\n",
       "      <th>STL</th>\n",
       "      <th>BLK</th>\n",
       "      <th>TOV</th>\n",
       "      <th>PF</th>\n",
       "      <th>PTS</th>\n",
       "    </tr>\n",
       "  </thead>\n",
       "  <tbody>\n",
       "    <tr>\n",
       "      <th>0</th>\n",
       "      <td>1</td>\n",
       "      <td>Precious Achiuwa</td>\n",
       "      <td>PF</td>\n",
       "      <td>21</td>\n",
       "      <td>MIA</td>\n",
       "      <td>35</td>\n",
       "      <td>2</td>\n",
       "      <td>491</td>\n",
       "      <td>84</td>\n",
       "      <td>145</td>\n",
       "      <td>...</td>\n",
       "      <td>0.543</td>\n",
       "      <td>46</td>\n",
       "      <td>95</td>\n",
       "      <td>141</td>\n",
       "      <td>20</td>\n",
       "      <td>15</td>\n",
       "      <td>19</td>\n",
       "      <td>32</td>\n",
       "      <td>58</td>\n",
       "      <td>212</td>\n",
       "    </tr>\n",
       "    <tr>\n",
       "      <th>1</th>\n",
       "      <td>2</td>\n",
       "      <td>Jaylen Adams</td>\n",
       "      <td>PG</td>\n",
       "      <td>24</td>\n",
       "      <td>MIL</td>\n",
       "      <td>7</td>\n",
       "      <td>0</td>\n",
       "      <td>18</td>\n",
       "      <td>1</td>\n",
       "      <td>8</td>\n",
       "      <td>...</td>\n",
       "      <td>NaN</td>\n",
       "      <td>0</td>\n",
       "      <td>3</td>\n",
       "      <td>3</td>\n",
       "      <td>2</td>\n",
       "      <td>0</td>\n",
       "      <td>0</td>\n",
       "      <td>0</td>\n",
       "      <td>1</td>\n",
       "      <td>20000</td>\n",
       "    </tr>\n",
       "    <tr>\n",
       "      <th>2</th>\n",
       "      <td>3</td>\n",
       "      <td>Steven Adams</td>\n",
       "      <td>C</td>\n",
       "      <td>27</td>\n",
       "      <td>NOP</td>\n",
       "      <td>33</td>\n",
       "      <td>33</td>\n",
       "      <td>918</td>\n",
       "      <td>115</td>\n",
       "      <td>187</td>\n",
       "      <td>...</td>\n",
       "      <td>0.443</td>\n",
       "      <td>133</td>\n",
       "      <td>161</td>\n",
       "      <td>294</td>\n",
       "      <td>69</td>\n",
       "      <td>29</td>\n",
       "      <td>20</td>\n",
       "      <td>50</td>\n",
       "      <td>63</td>\n",
       "      <td>265</td>\n",
       "    </tr>\n",
       "    <tr>\n",
       "      <th>3</th>\n",
       "      <td>4</td>\n",
       "      <td>Bam Adebayo</td>\n",
       "      <td>C</td>\n",
       "      <td>23</td>\n",
       "      <td>MIA</td>\n",
       "      <td>33</td>\n",
       "      <td>33</td>\n",
       "      <td>1119</td>\n",
       "      <td>236</td>\n",
       "      <td>419</td>\n",
       "      <td>...</td>\n",
       "      <td>0.847</td>\n",
       "      <td>72</td>\n",
       "      <td>241</td>\n",
       "      <td>313</td>\n",
       "      <td>179</td>\n",
       "      <td>29</td>\n",
       "      <td>34</td>\n",
       "      <td>98</td>\n",
       "      <td>80</td>\n",
       "      <td>634</td>\n",
       "    </tr>\n",
       "    <tr>\n",
       "      <th>4</th>\n",
       "      <td>5</td>\n",
       "      <td>LaMarcus Aldridge</td>\n",
       "      <td>C</td>\n",
       "      <td>35</td>\n",
       "      <td>SAS</td>\n",
       "      <td>21</td>\n",
       "      <td>18</td>\n",
       "      <td>544</td>\n",
       "      <td>115</td>\n",
       "      <td>248</td>\n",
       "      <td>...</td>\n",
       "      <td>0.838</td>\n",
       "      <td>17</td>\n",
       "      <td>77</td>\n",
       "      <td>94</td>\n",
       "      <td>36</td>\n",
       "      <td>8</td>\n",
       "      <td>18</td>\n",
       "      <td>20</td>\n",
       "      <td>36</td>\n",
       "      <td>28800</td>\n",
       "    </tr>\n",
       "  </tbody>\n",
       "</table>\n",
       "<p>5 rows × 29 columns</p>\n",
       "</div>"
      ],
      "text/plain": [
       "   Rk             Player Pos  Age    Tm   G  GS    MP   FG  FGA  ...    FT%  \\\n",
       "0   1   Precious Achiuwa  PF   21   MIA  35   2   491   84  145  ...  0.543   \n",
       "1   2       Jaylen Adams  PG   24   MIL   7   0    18    1    8  ...    NaN   \n",
       "2   3       Steven Adams   C   27   NOP  33  33   918  115  187  ...  0.443   \n",
       "3   4        Bam Adebayo   C   23   MIA  33  33  1119  236  419  ...  0.847   \n",
       "4   5  LaMarcus Aldridge   C   35  SAS   21  18   544  115  248  ...  0.838   \n",
       "\n",
       "   ORB  DRB  TRB  AST  STL  BLK  TOV  PF    PTS  \n",
       "0   46   95  141   20   15   19   32  58    212  \n",
       "1    0    3    3    2    0    0    0   1  20000  \n",
       "2  133  161  294   69   29   20   50  63    265  \n",
       "3   72  241  313  179   29   34   98  80    634  \n",
       "4   17   77   94   36    8   18   20  36  28800  \n",
       "\n",
       "[5 rows x 29 columns]"
      ]
     },
     "execution_count": 2,
     "metadata": {},
     "output_type": "execute_result"
    }
   ],
   "source": [
    "# Load the data from the file NBA_players_stats.csv using pandas library.\n",
    "filename = 'NBA_players_stats.csv'\n",
    "nbaPlayersStats = pd.read_csv(filename, sep=',', decimal='.')\n",
    "nbaPlayersStats.head()"
   ]
  },
  {
   "cell_type": "code",
   "execution_count": 3,
   "metadata": {},
   "outputs": [
    {
     "data": {
      "text/plain": [
       "Rk          int64\n",
       "Player     object\n",
       "Pos        object\n",
       "Age         int64\n",
       "Tm         object\n",
       "G           int64\n",
       "GS          int64\n",
       "MP          int64\n",
       "FG          int64\n",
       "FGA         int64\n",
       "FG%       float64\n",
       "3P          int64\n",
       "3PA         int64\n",
       "3P%       float64\n",
       "2P          int64\n",
       "2PA         int64\n",
       "2P%       float64\n",
       "FT          int64\n",
       "FTA         int64\n",
       "FT%       float64\n",
       "ORB         int64\n",
       "DRB         int64\n",
       "TRB         int64\n",
       "AST         int64\n",
       "STL         int64\n",
       "BLK         int64\n",
       "TOV         int64\n",
       "PF          int64\n",
       "PTS         int64\n",
       "dtype: object"
      ]
     },
     "execution_count": 3,
     "metadata": {},
     "output_type": "execute_result"
    }
   ],
   "source": [
    "# Clean the data\n",
    "# Data Type check\n",
    "nbaPlayersStats.dtypes"
   ]
  },
  {
   "cell_type": "code",
   "execution_count": 4,
   "metadata": {
    "id": "SpCdNXgLvdtv"
   },
   "outputs": [],
   "source": [
    "# Handle the capital letter mismatches & redundant whitespace for 'Pos' & 'Tm' columns with type object\n",
    "columns = ['Pos', 'Tm']\n",
    "for col in columns:\n",
    "    nbaPlayersStats[col] = nbaPlayersStats[col].str.strip()\n",
    "    nbaPlayersStats[col] = nbaPlayersStats[col].str.upper()"
   ]
  },
  {
   "cell_type": "code",
   "execution_count": 5,
   "metadata": {},
   "outputs": [],
   "source": [
    "# Handle data entry error for 'Pos' column\n",
    "nbaPlayersStats['Pos'].mask(cond=(nbaPlayersStats['Pos'] == 'PFA'), other='PF', inplace=True)\n",
    "nbaPlayersStats['Pos'].mask(cond=(nbaPlayersStats['Pos'] == 'SGA'), other='SG', inplace=True)\n",
    "nbaPlayersStats['Pos'].mask(cond=(nbaPlayersStats['Pos'] == 'SF.'), other='SF', inplace=True)"
   ]
  },
  {
   "cell_type": "code",
   "execution_count": 6,
   "metadata": {},
   "outputs": [],
   "source": [
    "# I have noticed that the 'Age' column has 2 impossible records (-19 and 280). Replace them to 19 and 280 respectively\n",
    "nbaPlayersStats['Age'].mask(cond=(nbaPlayersStats['Age'] == -19), other=19, inplace=True)\n",
    "nbaPlayersStats['Age'].mask(cond=(nbaPlayersStats['Age'] == 280), other=28, inplace=True)"
   ]
  },
  {
   "cell_type": "code",
   "execution_count": 7,
   "metadata": {},
   "outputs": [
    {
     "name": "stdout",
     "output_type": "stream",
     "text": [
      "0\n",
      "0\n"
     ]
    }
   ],
   "source": [
    "# Check whether the number of games played as starter is greater than the number of games played\n",
    "print(np.sum(nbaPlayersStats['G'] < nbaPlayersStats['GS']))\n",
    "\n",
    "# Check whether the number of games played is greater than 82\n",
    "print(np.sum(nbaPlayersStats['G'] > 82))"
   ]
  },
  {
   "cell_type": "code",
   "execution_count": 8,
   "metadata": {},
   "outputs": [
    {
     "name": "stdout",
     "output_type": "stream",
     "text": [
      "0\n"
     ]
    }
   ],
   "source": [
    "# Check whether column 'MP' has any negative values\n",
    "print(np.sum(nbaPlayersStats['MP'] < 0))"
   ]
  },
  {
   "cell_type": "code",
   "execution_count": 9,
   "metadata": {},
   "outputs": [
    {
     "name": "stdout",
     "output_type": "stream",
     "text": [
      "0\n",
      "33\n",
      "0\n"
     ]
    }
   ],
   "source": [
    "# Check whether the number of 3-Point Field Goal Attempts is greater than the number of 3-Point Field Goals\n",
    "print(np.sum(nbaPlayersStats['3PA'] < nbaPlayersStats['3P']))\n",
    "\n",
    "# Check whether the number of 3-Point Field Goal Attempts is smaller than or equal to 0\n",
    "print(np.sum(nbaPlayersStats['3PA'] <= 0))\n",
    "\n",
    "# Check whether the number of 3-Point Field Goals is smaller than 0\n",
    "print(np.sum(nbaPlayersStats['3P'] < 0))"
   ]
  },
  {
   "cell_type": "code",
   "execution_count": 10,
   "metadata": {},
   "outputs": [],
   "source": [
    "# Remove records with 0 value in 3PA to ensure 3P% does not contain null values\n",
    "nbaPlayersStats = nbaPlayersStats[nbaPlayersStats['3PA'] > 0]"
   ]
  },
  {
   "cell_type": "code",
   "execution_count": 11,
   "metadata": {},
   "outputs": [
    {
     "name": "stdout",
     "output_type": "stream",
     "text": [
      "0\n",
      "4\n",
      "0\n"
     ]
    }
   ],
   "source": [
    "# Check whether the number of 2-Point Field Goal Attempts is greater than the number of 2-Point Field Goals\n",
    "print(np.sum(nbaPlayersStats['2PA'] < nbaPlayersStats['2P']))\n",
    "\n",
    "# Check whether the number of 2-Point Field Goal Attempts is smaller than or equal to 0\n",
    "print(np.sum(nbaPlayersStats['2PA'] <= 0))\n",
    "\n",
    "# Check whether the number of 2-Point Field Goals is smaller than 0\n",
    "print(np.sum(nbaPlayersStats['2P'] < 0))"
   ]
  },
  {
   "cell_type": "code",
   "execution_count": 12,
   "metadata": {},
   "outputs": [],
   "source": [
    "# Remove records with 0 value in 2PA\n",
    "nbaPlayersStats = nbaPlayersStats[nbaPlayersStats['2PA'] > 0]"
   ]
  },
  {
   "cell_type": "code",
   "execution_count": 13,
   "metadata": {
    "scrolled": true
   },
   "outputs": [
    {
     "name": "stdout",
     "output_type": "stream",
     "text": [
      "0\n",
      "24\n",
      "0\n"
     ]
    }
   ],
   "source": [
    "# Check whether the number of Free Throw Attempts is greater than the number of Free Throws\n",
    "print(np.sum(nbaPlayersStats['FTA'] < nbaPlayersStats['FT']))\n",
    "\n",
    "# Check whether the number of Free Throw Attempts is smaller than or equal to 0\n",
    "print(np.sum(nbaPlayersStats['FTA'] <= 0))\n",
    "\n",
    "# Check whether the number of Free Throws is smaller than 0\n",
    "print(np.sum(nbaPlayersStats['FT'] < 0))"
   ]
  },
  {
   "cell_type": "code",
   "execution_count": 14,
   "metadata": {},
   "outputs": [],
   "source": [
    "# Remove records with 0 value in FTA\n",
    "nbaPlayersStats = nbaPlayersStats[nbaPlayersStats['FTA'] > 0]"
   ]
  },
  {
   "cell_type": "code",
   "execution_count": 15,
   "metadata": {},
   "outputs": [
    {
     "name": "stdout",
     "output_type": "stream",
     "text": [
      "69\n",
      "70\n",
      "89\n"
     ]
    }
   ],
   "source": [
    "# Check to see whether 3P%, 2P%, FT% contain incorrect values due to incorrect calculations\n",
    "print(np.sum(nbaPlayersStats['3P%'] != round(nbaPlayersStats['3P']/nbaPlayersStats['3PA'], 3)))\n",
    "\n",
    "print(np.sum(nbaPlayersStats['2P%'] != round(nbaPlayersStats['2P']/nbaPlayersStats['2PA'], 3)))\n",
    "\n",
    "print(np.sum(nbaPlayersStats['FT%'] != round(nbaPlayersStats['FT']/nbaPlayersStats['FTA'], 3)))"
   ]
  },
  {
   "cell_type": "code",
   "execution_count": 16,
   "metadata": {},
   "outputs": [],
   "source": [
    "# Re-calculate the '3P%' column\n",
    "nbaPlayersStats['3P%'] = round(nbaPlayersStats['3P']/nbaPlayersStats['3PA'], 3)\n",
    "\n",
    "# Re-calculate the '2P%' column\n",
    "nbaPlayersStats['2P%'] = round(nbaPlayersStats['2P']/nbaPlayersStats['2PA'], 3)\n",
    "\n",
    "# Re-calculate the 'FT%' column \n",
    "nbaPlayersStats['FT%'] = round(nbaPlayersStats['FT']/nbaPlayersStats['FTA'], 3)"
   ]
  },
  {
   "cell_type": "code",
   "execution_count": 17,
   "metadata": {},
   "outputs": [],
   "source": [
    "# Re-calculate the 'FG' and 'FGA' columns\n",
    "nbaPlayersStats['FG'] = nbaPlayersStats['3P'] + nbaPlayersStats['2P']\n",
    "\n",
    "nbaPlayersStats['FGA'] = nbaPlayersStats['3PA'] + nbaPlayersStats['2PA']"
   ]
  },
  {
   "cell_type": "code",
   "execution_count": 18,
   "metadata": {},
   "outputs": [
    {
     "name": "stdout",
     "output_type": "stream",
     "text": [
      "0\n",
      "0\n",
      "0\n",
      "0\n"
     ]
    }
   ],
   "source": [
    "# Check whether the number of Field Goal Attempts is greater than the Field Goals\n",
    "print(np.sum(nbaPlayersStats['FGA'] < nbaPlayersStats['FG']))\n",
    "\n",
    "# Check whether the number of Field Goal Attempts is greater than the number of Field Goals\n",
    "print(np.sum(nbaPlayersStats['FGA'] < nbaPlayersStats['FG']))\n",
    "\n",
    "# Check whether the number of Field Goal Attempts is smaller than or equal to 0\n",
    "print(np.sum(nbaPlayersStats['FGA'] <= 0))\n",
    "\n",
    "# Check whether the number of Field Goals is smaller than 0\n",
    "print(np.sum(nbaPlayersStats['FG'] < 0))"
   ]
  },
  {
   "cell_type": "code",
   "execution_count": 19,
   "metadata": {},
   "outputs": [],
   "source": [
    "# Re-calculate the column 'FG' based on column 'FG' and column 'FGA'\n",
    "nbaPlayersStats['FG%'] = round(nbaPlayersStats['FG']/nbaPlayersStats['FGA'], 3)"
   ]
  },
  {
   "cell_type": "code",
   "execution_count": 20,
   "metadata": {},
   "outputs": [
    {
     "data": {
      "text/plain": [
       "Rk        0\n",
       "Player    0\n",
       "Pos       0\n",
       "Age       0\n",
       "Tm        0\n",
       "G         0\n",
       "GS        0\n",
       "MP        0\n",
       "FG        0\n",
       "FGA       0\n",
       "FG%       0\n",
       "3P        0\n",
       "3PA       0\n",
       "3P%       0\n",
       "2P        0\n",
       "2PA       0\n",
       "2P%       0\n",
       "FT        0\n",
       "FTA       0\n",
       "FT%       0\n",
       "ORB       0\n",
       "DRB       0\n",
       "TRB       0\n",
       "AST       0\n",
       "STL       0\n",
       "BLK       0\n",
       "TOV       0\n",
       "PF        0\n",
       "PTS       0\n",
       "dtype: int64"
      ]
     },
     "execution_count": 20,
     "metadata": {},
     "output_type": "execute_result"
    }
   ],
   "source": [
    "# Check whether there is any null value in the dataset\n",
    "nbaPlayersStats.isnull().sum()"
   ]
  },
  {
   "cell_type": "code",
   "execution_count": 21,
   "metadata": {},
   "outputs": [
    {
     "name": "stdout",
     "output_type": "stream",
     "text": [
      "0\n",
      "0\n"
     ]
    }
   ],
   "source": [
    "# Check whether column 'ORB' and 'DRB' has any negative values\n",
    "print(np.sum(nbaPlayersStats['ORB'] < 0))\n",
    "print(np.sum(nbaPlayersStats['DRB'] < 0))"
   ]
  },
  {
   "cell_type": "code",
   "execution_count": 22,
   "metadata": {},
   "outputs": [],
   "source": [
    "# Re-calculate the 'TRB' column based on 'DRB' and 'ORB'\n",
    "nbaPlayersStats['TRB'] = nbaPlayersStats['ORB'] + nbaPlayersStats['DRB']"
   ]
  },
  {
   "cell_type": "code",
   "execution_count": 23,
   "metadata": {},
   "outputs": [
    {
     "name": "stdout",
     "output_type": "stream",
     "text": [
      "0\n",
      "0\n",
      "0\n",
      "0\n"
     ]
    }
   ],
   "source": [
    "# Check whether column 'AST', 'STL', 'BLK' and 'TOV' has any negative values\n",
    "print(np.sum(nbaPlayersStats['AST'] < 0))\n",
    "print(np.sum(nbaPlayersStats['STL'] < 0))\n",
    "print(np.sum(nbaPlayersStats['BLK'] < 0))\n",
    "print(np.sum(nbaPlayersStats['TOV'] < 0))"
   ]
  },
  {
   "cell_type": "code",
   "execution_count": 24,
   "metadata": {},
   "outputs": [
    {
     "name": "stdout",
     "output_type": "stream",
     "text": [
      "0\n",
      "0\n"
     ]
    }
   ],
   "source": [
    "# Ensure each player is disaqualified for a maxium of 6 fouls per game\n",
    "print(np.sum(nbaPlayersStats['PF'] > 6*nbaPlayersStats['G']))\n",
    "print(np.sum(nbaPlayersStats['PF'] < 0))"
   ]
  },
  {
   "cell_type": "code",
   "execution_count": 25,
   "metadata": {},
   "outputs": [
    {
     "data": {
      "text/plain": [
       "0"
      ]
     },
     "execution_count": 25,
     "metadata": {},
     "output_type": "execute_result"
    }
   ],
   "source": [
    "# Re-calculate the player's total points\n",
    "nbaPlayersStats['PTS'] = 3*nbaPlayersStats['3P'] + 2*nbaPlayersStats['2P'] + nbaPlayersStats['FT']\n",
    "\n",
    "# Ensure the player's total points are smaller than 2000\n",
    "np.sum(nbaPlayersStats['PTS'] >= 2000)"
   ]
  },
  {
   "cell_type": "code",
   "execution_count": 26,
   "metadata": {},
   "outputs": [
    {
     "data": {
      "text/html": [
       "<div>\n",
       "<style scoped>\n",
       "    .dataframe tbody tr th:only-of-type {\n",
       "        vertical-align: middle;\n",
       "    }\n",
       "\n",
       "    .dataframe tbody tr th {\n",
       "        vertical-align: top;\n",
       "    }\n",
       "\n",
       "    .dataframe thead th {\n",
       "        text-align: right;\n",
       "    }\n",
       "</style>\n",
       "<table border=\"1\" class=\"dataframe\">\n",
       "  <thead>\n",
       "    <tr style=\"text-align: right;\">\n",
       "      <th></th>\n",
       "      <th>Rk</th>\n",
       "      <th>Age</th>\n",
       "      <th>G</th>\n",
       "      <th>GS</th>\n",
       "      <th>MP</th>\n",
       "      <th>FG</th>\n",
       "      <th>FGA</th>\n",
       "      <th>FG%</th>\n",
       "      <th>3P</th>\n",
       "      <th>3PA</th>\n",
       "      <th>...</th>\n",
       "      <th>FT%</th>\n",
       "      <th>ORB</th>\n",
       "      <th>DRB</th>\n",
       "      <th>TRB</th>\n",
       "      <th>AST</th>\n",
       "      <th>STL</th>\n",
       "      <th>BLK</th>\n",
       "      <th>TOV</th>\n",
       "      <th>PF</th>\n",
       "      <th>PTS</th>\n",
       "    </tr>\n",
       "  </thead>\n",
       "  <tbody>\n",
       "    <tr>\n",
       "      <th>count</th>\n",
       "      <td>451.000000</td>\n",
       "      <td>451.000000</td>\n",
       "      <td>451.000000</td>\n",
       "      <td>451.000000</td>\n",
       "      <td>451.000000</td>\n",
       "      <td>451.000000</td>\n",
       "      <td>451.000000</td>\n",
       "      <td>451.000000</td>\n",
       "      <td>451.000000</td>\n",
       "      <td>451.000000</td>\n",
       "      <td>...</td>\n",
       "      <td>451.000000</td>\n",
       "      <td>451.000000</td>\n",
       "      <td>451.000000</td>\n",
       "      <td>451.000000</td>\n",
       "      <td>451.000000</td>\n",
       "      <td>451.000000</td>\n",
       "      <td>451.000000</td>\n",
       "      <td>451.000000</td>\n",
       "      <td>451.000000</td>\n",
       "      <td>451.000000</td>\n",
       "    </tr>\n",
       "    <tr>\n",
       "      <th>mean</th>\n",
       "      <td>252.541020</td>\n",
       "      <td>25.818182</td>\n",
       "      <td>24.290466</td>\n",
       "      <td>11.745011</td>\n",
       "      <td>564.935698</td>\n",
       "      <td>96.700665</td>\n",
       "      <td>208.676275</td>\n",
       "      <td>0.446632</td>\n",
       "      <td>30.707317</td>\n",
       "      <td>83.310421</td>\n",
       "      <td>...</td>\n",
       "      <td>0.749670</td>\n",
       "      <td>21.789357</td>\n",
       "      <td>79.957871</td>\n",
       "      <td>101.747228</td>\n",
       "      <td>59.192905</td>\n",
       "      <td>17.791574</td>\n",
       "      <td>11.075388</td>\n",
       "      <td>31.860310</td>\n",
       "      <td>45.733925</td>\n",
       "      <td>264.882483</td>\n",
       "    </tr>\n",
       "    <tr>\n",
       "      <th>std</th>\n",
       "      <td>140.221634</td>\n",
       "      <td>4.081147</td>\n",
       "      <td>9.661947</td>\n",
       "      <td>12.912154</td>\n",
       "      <td>359.681047</td>\n",
       "      <td>82.012961</td>\n",
       "      <td>169.491008</td>\n",
       "      <td>0.091532</td>\n",
       "      <td>29.882487</td>\n",
       "      <td>75.804640</td>\n",
       "      <td>...</td>\n",
       "      <td>0.165817</td>\n",
       "      <td>22.984294</td>\n",
       "      <td>64.962488</td>\n",
       "      <td>83.524623</td>\n",
       "      <td>62.265279</td>\n",
       "      <td>13.265193</td>\n",
       "      <td>12.942045</td>\n",
       "      <td>28.318514</td>\n",
       "      <td>30.084846</td>\n",
       "      <td>227.419948</td>\n",
       "    </tr>\n",
       "    <tr>\n",
       "      <th>min</th>\n",
       "      <td>3.000000</td>\n",
       "      <td>19.000000</td>\n",
       "      <td>2.000000</td>\n",
       "      <td>0.000000</td>\n",
       "      <td>6.000000</td>\n",
       "      <td>0.000000</td>\n",
       "      <td>2.000000</td>\n",
       "      <td>0.000000</td>\n",
       "      <td>0.000000</td>\n",
       "      <td>1.000000</td>\n",
       "      <td>...</td>\n",
       "      <td>0.000000</td>\n",
       "      <td>0.000000</td>\n",
       "      <td>0.000000</td>\n",
       "      <td>0.000000</td>\n",
       "      <td>0.000000</td>\n",
       "      <td>0.000000</td>\n",
       "      <td>0.000000</td>\n",
       "      <td>0.000000</td>\n",
       "      <td>0.000000</td>\n",
       "      <td>1.000000</td>\n",
       "    </tr>\n",
       "    <tr>\n",
       "      <th>25%</th>\n",
       "      <td>132.500000</td>\n",
       "      <td>23.000000</td>\n",
       "      <td>17.000000</td>\n",
       "      <td>0.500000</td>\n",
       "      <td>246.500000</td>\n",
       "      <td>31.000000</td>\n",
       "      <td>70.500000</td>\n",
       "      <td>0.395000</td>\n",
       "      <td>5.500000</td>\n",
       "      <td>19.000000</td>\n",
       "      <td>...</td>\n",
       "      <td>0.684000</td>\n",
       "      <td>6.000000</td>\n",
       "      <td>30.000000</td>\n",
       "      <td>38.000000</td>\n",
       "      <td>15.000000</td>\n",
       "      <td>6.000000</td>\n",
       "      <td>3.000000</td>\n",
       "      <td>11.000000</td>\n",
       "      <td>21.000000</td>\n",
       "      <td>83.000000</td>\n",
       "    </tr>\n",
       "    <tr>\n",
       "      <th>50%</th>\n",
       "      <td>256.000000</td>\n",
       "      <td>25.000000</td>\n",
       "      <td>26.000000</td>\n",
       "      <td>6.000000</td>\n",
       "      <td>572.000000</td>\n",
       "      <td>79.000000</td>\n",
       "      <td>174.000000</td>\n",
       "      <td>0.443000</td>\n",
       "      <td>23.000000</td>\n",
       "      <td>63.000000</td>\n",
       "      <td>...</td>\n",
       "      <td>0.778000</td>\n",
       "      <td>15.000000</td>\n",
       "      <td>64.000000</td>\n",
       "      <td>81.000000</td>\n",
       "      <td>41.000000</td>\n",
       "      <td>15.000000</td>\n",
       "      <td>7.000000</td>\n",
       "      <td>25.000000</td>\n",
       "      <td>43.000000</td>\n",
       "      <td>208.000000</td>\n",
       "    </tr>\n",
       "    <tr>\n",
       "      <th>75%</th>\n",
       "      <td>374.500000</td>\n",
       "      <td>28.500000</td>\n",
       "      <td>33.000000</td>\n",
       "      <td>23.000000</td>\n",
       "      <td>846.000000</td>\n",
       "      <td>140.500000</td>\n",
       "      <td>305.500000</td>\n",
       "      <td>0.497000</td>\n",
       "      <td>49.000000</td>\n",
       "      <td>127.000000</td>\n",
       "      <td>...</td>\n",
       "      <td>0.852500</td>\n",
       "      <td>28.000000</td>\n",
       "      <td>116.000000</td>\n",
       "      <td>144.000000</td>\n",
       "      <td>77.000000</td>\n",
       "      <td>26.500000</td>\n",
       "      <td>15.000000</td>\n",
       "      <td>45.000000</td>\n",
       "      <td>65.500000</td>\n",
       "      <td>382.000000</td>\n",
       "    </tr>\n",
       "    <tr>\n",
       "      <th>max</th>\n",
       "      <td>492.000000</td>\n",
       "      <td>37.000000</td>\n",
       "      <td>38.000000</td>\n",
       "      <td>37.000000</td>\n",
       "      <td>1358.000000</td>\n",
       "      <td>379.000000</td>\n",
       "      <td>764.000000</td>\n",
       "      <td>0.762000</td>\n",
       "      <td>169.000000</td>\n",
       "      <td>411.000000</td>\n",
       "      <td>...</td>\n",
       "      <td>1.000000</td>\n",
       "      <td>133.000000</td>\n",
       "      <td>357.000000</td>\n",
       "      <td>472.000000</td>\n",
       "      <td>345.000000</td>\n",
       "      <td>63.000000</td>\n",
       "      <td>111.000000</td>\n",
       "      <td>149.000000</td>\n",
       "      <td>228.000000</td>\n",
       "      <td>1053.000000</td>\n",
       "    </tr>\n",
       "  </tbody>\n",
       "</table>\n",
       "<p>8 rows × 26 columns</p>\n",
       "</div>"
      ],
      "text/plain": [
       "               Rk         Age           G          GS           MP  \\\n",
       "count  451.000000  451.000000  451.000000  451.000000   451.000000   \n",
       "mean   252.541020   25.818182   24.290466   11.745011   564.935698   \n",
       "std    140.221634    4.081147    9.661947   12.912154   359.681047   \n",
       "min      3.000000   19.000000    2.000000    0.000000     6.000000   \n",
       "25%    132.500000   23.000000   17.000000    0.500000   246.500000   \n",
       "50%    256.000000   25.000000   26.000000    6.000000   572.000000   \n",
       "75%    374.500000   28.500000   33.000000   23.000000   846.000000   \n",
       "max    492.000000   37.000000   38.000000   37.000000  1358.000000   \n",
       "\n",
       "               FG         FGA         FG%          3P         3PA  ...  \\\n",
       "count  451.000000  451.000000  451.000000  451.000000  451.000000  ...   \n",
       "mean    96.700665  208.676275    0.446632   30.707317   83.310421  ...   \n",
       "std     82.012961  169.491008    0.091532   29.882487   75.804640  ...   \n",
       "min      0.000000    2.000000    0.000000    0.000000    1.000000  ...   \n",
       "25%     31.000000   70.500000    0.395000    5.500000   19.000000  ...   \n",
       "50%     79.000000  174.000000    0.443000   23.000000   63.000000  ...   \n",
       "75%    140.500000  305.500000    0.497000   49.000000  127.000000  ...   \n",
       "max    379.000000  764.000000    0.762000  169.000000  411.000000  ...   \n",
       "\n",
       "              FT%         ORB         DRB         TRB         AST         STL  \\\n",
       "count  451.000000  451.000000  451.000000  451.000000  451.000000  451.000000   \n",
       "mean     0.749670   21.789357   79.957871  101.747228   59.192905   17.791574   \n",
       "std      0.165817   22.984294   64.962488   83.524623   62.265279   13.265193   \n",
       "min      0.000000    0.000000    0.000000    0.000000    0.000000    0.000000   \n",
       "25%      0.684000    6.000000   30.000000   38.000000   15.000000    6.000000   \n",
       "50%      0.778000   15.000000   64.000000   81.000000   41.000000   15.000000   \n",
       "75%      0.852500   28.000000  116.000000  144.000000   77.000000   26.500000   \n",
       "max      1.000000  133.000000  357.000000  472.000000  345.000000   63.000000   \n",
       "\n",
       "              BLK         TOV          PF          PTS  \n",
       "count  451.000000  451.000000  451.000000   451.000000  \n",
       "mean    11.075388   31.860310   45.733925   264.882483  \n",
       "std     12.942045   28.318514   30.084846   227.419948  \n",
       "min      0.000000    0.000000    0.000000     1.000000  \n",
       "25%      3.000000   11.000000   21.000000    83.000000  \n",
       "50%      7.000000   25.000000   43.000000   208.000000  \n",
       "75%     15.000000   45.000000   65.500000   382.000000  \n",
       "max    111.000000  149.000000  228.000000  1053.000000  \n",
       "\n",
       "[8 rows x 26 columns]"
      ]
     },
     "execution_count": 26,
     "metadata": {},
     "output_type": "execute_result"
    }
   ],
   "source": [
    "nbaPlayersStats.describe()"
   ]
  },
  {
   "cell_type": "code",
   "execution_count": 27,
   "metadata": {},
   "outputs": [
    {
     "data": {
      "text/plain": [
       "<AxesSubplot:ylabel='Frequency'>"
      ]
     },
     "execution_count": 27,
     "metadata": {},
     "output_type": "execute_result"
    },
    {
     "data": {
      "image/png": "[encoded data removed]",
      "text/plain": [
       "<Figure size 432x288 with 1 Axes>"
      ]
     },
     "metadata": {
      "needs_background": "light"
     },
     "output_type": "display_data"
    }
   ],
   "source": [
    "# Draw historgram for each column to find outliers\n",
    "nbaPlayersStats['G'].plot(kind='hist', bins = 10)"
   ]
  },
  {
   "cell_type": "code",
   "execution_count": 28,
   "metadata": {},
   "outputs": [
    {
     "data": {
      "text/plain": [
       "<AxesSubplot:ylabel='Frequency'>"
      ]
     },
     "execution_count": 28,
     "metadata": {},
     "output_type": "execute_result"
    },
    {
     "data": {
      "image/png": "[encoded data removed]",
      "text/plain": [
       "<Figure size 432x288 with 1 Axes>"
      ]
     },
     "metadata": {
      "needs_background": "light"
     },
     "output_type": "display_data"
    }
   ],
   "source": [
    "nbaPlayersStats['GS'].plot(kind='hist', bins = 10)"
   ]
  },
  {
   "cell_type": "code",
   "execution_count": 29,
   "metadata": {},
   "outputs": [
    {
     "data": {
      "text/plain": [
       "<AxesSubplot:ylabel='Frequency'>"
      ]
     },
     "execution_count": 29,
     "metadata": {},
     "output_type": "execute_result"
    },
    {
     "data": {
      "image/png": "[encoded data removed]",
      "text/plain": [
       "<Figure size 432x288 with 1 Axes>"
      ]
     },
     "metadata": {
      "needs_background": "light"
     },
     "output_type": "display_data"
    }
   ],
   "source": [
    "nbaPlayersStats['MP'].plot(kind='hist', bins = 20)"
   ]
  },
  {
   "cell_type": "code",
   "execution_count": 30,
   "metadata": {},
   "outputs": [
    {
     "data": {
      "text/plain": [
       "<AxesSubplot:ylabel='Frequency'>"
      ]
     },
     "execution_count": 30,
     "metadata": {},
     "output_type": "execute_result"
    },
    {
     "data": {
      "image/png": "[encoded data removed]",
      "text/plain": [
       "<Figure size 432x288 with 1 Axes>"
      ]
     },
     "metadata": {
      "needs_background": "light"
     },
     "output_type": "display_data"
    }
   ],
   "source": [
    "nbaPlayersStats['FG'].plot(kind='hist', bins = 10)"
   ]
  },
  {
   "cell_type": "code",
   "execution_count": 31,
   "metadata": {},
   "outputs": [
    {
     "data": {
      "text/plain": [
       "<AxesSubplot:ylabel='Frequency'>"
      ]
     },
     "execution_count": 31,
     "metadata": {},
     "output_type": "execute_result"
    },
    {
     "data": {
      "image/png": "[encoded data removed]",
      "text/plain": [
       "<Figure size 432x288 with 1 Axes>"
      ]
     },
     "metadata": {
      "needs_background": "light"
     },
     "output_type": "display_data"
    }
   ],
   "source": [
    "nbaPlayersStats['FGA'].plot(kind='hist', bins = 10)"
   ]
  },
  {
   "cell_type": "code",
   "execution_count": 32,
   "metadata": {
    "scrolled": false
   },
   "outputs": [
    {
     "data": {
      "text/plain": [
       "<AxesSubplot:ylabel='Frequency'>"
      ]
     },
     "execution_count": 32,
     "metadata": {},
     "output_type": "execute_result"
    },
    {
     "data": {
      "image/png": "[encoded data removed]",
      "text/plain": [
       "<Figure size 432x288 with 1 Axes>"
      ]
     },
     "metadata": {
      "needs_background": "light"
     },
     "output_type": "display_data"
    }
   ],
   "source": [
    "nbaPlayersStats['FG%'].plot(kind='hist', bins = 15)"
   ]
  },
  {
   "cell_type": "code",
   "execution_count": 33,
   "metadata": {},
   "outputs": [
    {
     "data": {
      "text/plain": [
       "2"
      ]
     },
     "execution_count": 33,
     "metadata": {},
     "output_type": "execute_result"
    }
   ],
   "source": [
    "np.sum(nbaPlayersStats['FG%'] == 0)"
   ]
  },
  {
   "cell_type": "code",
   "execution_count": 34,
   "metadata": {},
   "outputs": [],
   "source": [
    "# Delete the records\n",
    "nbaPlayersStats = nbaPlayersStats[nbaPlayersStats['FG%'] != 0]"
   ]
  },
  {
   "cell_type": "code",
   "execution_count": 35,
   "metadata": {},
   "outputs": [
    {
     "data": {
      "text/plain": [
       "<AxesSubplot:ylabel='Frequency'>"
      ]
     },
     "execution_count": 35,
     "metadata": {},
     "output_type": "execute_result"
    },
    {
     "data": {
      "image/png": "[encoded data removed]",
      "text/plain": [
       "<Figure size 432x288 with 1 Axes>"
      ]
     },
     "metadata": {
      "needs_background": "light"
     },
     "output_type": "display_data"
    }
   ],
   "source": [
    "nbaPlayersStats['3P'].plot(kind='hist', bins = 10)"
   ]
  },
  {
   "cell_type": "code",
   "execution_count": 36,
   "metadata": {},
   "outputs": [],
   "source": [
    "# Delete the record since they have both '3P' and '3PA' which much higher compared to the rest\n",
    "nbaPlayersStats = nbaPlayersStats[nbaPlayersStats['3P'] < 150]"
   ]
  },
  {
   "cell_type": "code",
   "execution_count": 37,
   "metadata": {},
   "outputs": [
    {
     "data": {
      "text/plain": [
       "<AxesSubplot:ylabel='Frequency'>"
      ]
     },
     "execution_count": 37,
     "metadata": {},
     "output_type": "execute_result"
    },
    {
     "data": {
      "image/png": "[encoded data removed]",
      "text/plain": [
       "<Figure size 432x288 with 1 Axes>"
      ]
     },
     "metadata": {
      "needs_background": "light"
     },
     "output_type": "display_data"
    }
   ],
   "source": [
    "nbaPlayersStats['3PA'].plot(kind='hist', bins = 15)"
   ]
  },
  {
   "cell_type": "code",
   "execution_count": 38,
   "metadata": {},
   "outputs": [],
   "source": [
    "# Delete these values as if we replace them by other values, it will affect many other features\n",
    "# Moreover, these two values are much higher compared to the nearest one (308)\n",
    "nbaPlayersStats = nbaPlayersStats[nbaPlayersStats['3PA'] < 350]"
   ]
  },
  {
   "cell_type": "code",
   "execution_count": 39,
   "metadata": {},
   "outputs": [
    {
     "data": {
      "text/plain": [
       "<AxesSubplot:ylabel='Frequency'>"
      ]
     },
     "execution_count": 39,
     "metadata": {},
     "output_type": "execute_result"
    },
    {
     "data": {
      "image/png": "[encoded data removed]",
      "text/plain": [
       "<Figure size 432x288 with 1 Axes>"
      ]
     },
     "metadata": {
      "needs_background": "light"
     },
     "output_type": "display_data"
    }
   ],
   "source": [
    "nbaPlayersStats['3P%'].plot(kind='hist', bins = 10)"
   ]
  },
  {
   "cell_type": "code",
   "execution_count": 40,
   "metadata": {},
   "outputs": [],
   "source": [
    "# This column depends on '3P' and '3PA' column so it should not be replaced. Hence, delete it is the best approach\n",
    "nbaPlayersStats = nbaPlayersStats[nbaPlayersStats['3P%'] < 0.6]"
   ]
  },
  {
   "cell_type": "code",
   "execution_count": 41,
   "metadata": {
    "scrolled": true
   },
   "outputs": [
    {
     "data": {
      "text/plain": [
       "<AxesSubplot:ylabel='Frequency'>"
      ]
     },
     "execution_count": 41,
     "metadata": {},
     "output_type": "execute_result"
    },
    {
     "data": {
      "image/png": "[encoded data removed]",
      "text/plain": [
       "<Figure size 432x288 with 1 Axes>"
      ]
     },
     "metadata": {
      "needs_background": "light"
     },
     "output_type": "display_data"
    }
   ],
   "source": [
    "nbaPlayersStats['3P%'].plot(kind='hist', bins = 10)\n",
    "\n",
    "# I decided to keep these values since it has higher frequency"
   ]
  },
  {
   "cell_type": "code",
   "execution_count": 42,
   "metadata": {},
   "outputs": [
    {
     "data": {
      "text/plain": [
       "<AxesSubplot:ylabel='Frequency'>"
      ]
     },
     "execution_count": 42,
     "metadata": {},
     "output_type": "execute_result"
    },
    {
     "data": {
      "image/png": "[encoded data removed]",
      "text/plain": [
       "<Figure size 432x288 with 1 Axes>"
      ]
     },
     "metadata": {
      "needs_background": "light"
     },
     "output_type": "display_data"
    }
   ],
   "source": [
    "nbaPlayersStats['2P'].plot(kind='hist', bins = 10)"
   ]
  },
  {
   "cell_type": "code",
   "execution_count": 43,
   "metadata": {},
   "outputs": [
    {
     "data": {
      "text/plain": [
       "<AxesSubplot:ylabel='Frequency'>"
      ]
     },
     "execution_count": 43,
     "metadata": {},
     "output_type": "execute_result"
    },
    {
     "data": {
      "image/png": "[encoded data removed]",
      "text/plain": [
       "<Figure size 432x288 with 1 Axes>"
      ]
     },
     "metadata": {
      "needs_background": "light"
     },
     "output_type": "display_data"
    }
   ],
   "source": [
    "nbaPlayersStats['2PA'].plot(kind='hist', bins = 15)"
   ]
  },
  {
   "cell_type": "code",
   "execution_count": 44,
   "metadata": {},
   "outputs": [
    {
     "data": {
      "text/plain": [
       "<AxesSubplot:ylabel='Frequency'>"
      ]
     },
     "execution_count": 44,
     "metadata": {},
     "output_type": "execute_result"
    },
    {
     "data": {
      "image/png": "[encoded data removed]",
      "text/plain": [
       "<Figure size 432x288 with 1 Axes>"
      ]
     },
     "metadata": {
      "needs_background": "light"
     },
     "output_type": "display_data"
    }
   ],
   "source": [
    "nbaPlayersStats['2P%'].plot(kind='hist', bins = 15)"
   ]
  },
  {
   "cell_type": "code",
   "execution_count": 45,
   "metadata": {},
   "outputs": [
    {
     "name": "stdout",
     "output_type": "stream",
     "text": [
      "2\n",
      "2\n"
     ]
    }
   ],
   "source": [
    "print(np.sum(nbaPlayersStats['2P%'] > 0.8))\n",
    "print(np.sum(nbaPlayersStats['2P%'] < 0.1))"
   ]
  },
  {
   "cell_type": "code",
   "execution_count": 46,
   "metadata": {},
   "outputs": [],
   "source": [
    "# This column depends on '2P' and '2PA' column so it should not be replaced. Hence, delete it is the best approach\n",
    "# Moreover, one record from the team 'HOU' which only has one value, this record cannot represent anything\n",
    "nbaPlayersStats = nbaPlayersStats[nbaPlayersStats['2P%'] < 0.8]\n",
    "nbaPlayersStats = nbaPlayersStats[nbaPlayersStats['2P%'] >= 0.1]"
   ]
  },
  {
   "cell_type": "code",
   "execution_count": 47,
   "metadata": {},
   "outputs": [
    {
     "data": {
      "text/plain": [
       "<AxesSubplot:ylabel='Frequency'>"
      ]
     },
     "execution_count": 47,
     "metadata": {},
     "output_type": "execute_result"
    },
    {
     "data": {
      "image/png": "[encoded data removed]",
      "text/plain": [
       "<Figure size 432x288 with 1 Axes>"
      ]
     },
     "metadata": {
      "needs_background": "light"
     },
     "output_type": "display_data"
    }
   ],
   "source": [
    "nbaPlayersStats['FT'].plot(kind='hist', bins = 15)"
   ]
  },
  {
   "cell_type": "code",
   "execution_count": 48,
   "metadata": {},
   "outputs": [
    {
     "data": {
      "text/plain": [
       "4"
      ]
     },
     "execution_count": 48,
     "metadata": {},
     "output_type": "execute_result"
    }
   ],
   "source": [
    "np.sum(nbaPlayersStats['FT'] > 200)"
   ]
  },
  {
   "cell_type": "code",
   "execution_count": 49,
   "metadata": {},
   "outputs": [],
   "source": [
    "# This column affects 'PTS' column. Hence, delete it is the best approach\n",
    "# Moreover, the corresponding 'FTA' values from these records are also outliers\n",
    "nbaPlayersStats = nbaPlayersStats[nbaPlayersStats['FT'] <= 200]"
   ]
  },
  {
   "cell_type": "code",
   "execution_count": 50,
   "metadata": {},
   "outputs": [
    {
     "data": {
      "text/plain": [
       "<AxesSubplot:ylabel='Frequency'>"
      ]
     },
     "execution_count": 50,
     "metadata": {},
     "output_type": "execute_result"
    },
    {
     "data": {
      "image/png": "[encoded data removed]",
      "text/plain": [
       "<Figure size 432x288 with 1 Axes>"
      ]
     },
     "metadata": {
      "needs_background": "light"
     },
     "output_type": "display_data"
    }
   ],
   "source": [
    "nbaPlayersStats['FTA'].plot(kind='hist', bins = 15)"
   ]
  },
  {
   "cell_type": "code",
   "execution_count": 51,
   "metadata": {},
   "outputs": [
    {
     "data": {
      "text/plain": [
       "<AxesSubplot:ylabel='Frequency'>"
      ]
     },
     "execution_count": 51,
     "metadata": {},
     "output_type": "execute_result"
    },
    {
     "data": {
      "image/png": "[encoded data removed]",
      "text/plain": [
       "<Figure size 432x288 with 1 Axes>"
      ]
     },
     "metadata": {
      "needs_background": "light"
     },
     "output_type": "display_data"
    }
   ],
   "source": [
    "nbaPlayersStats['FT%'].plot(kind='hist', bins = 10)"
   ]
  },
  {
   "cell_type": "code",
   "execution_count": 52,
   "metadata": {},
   "outputs": [
    {
     "data": {
      "text/plain": [
       "5"
      ]
     },
     "execution_count": 52,
     "metadata": {},
     "output_type": "execute_result"
    }
   ],
   "source": [
    "np.sum(nbaPlayersStats['FT%'] < 0.2)"
   ]
  },
  {
   "cell_type": "code",
   "execution_count": 53,
   "metadata": {},
   "outputs": [],
   "source": [
    "# This column depends on 'FT' and 'FTA' columns. Hence, delete it is the best approach\n",
    "# Moreover, the frequency is low\n",
    "nbaPlayersStats = nbaPlayersStats[nbaPlayersStats['FT%'] >= 0.2]"
   ]
  },
  {
   "cell_type": "code",
   "execution_count": 54,
   "metadata": {},
   "outputs": [
    {
     "data": {
      "text/plain": [
       "<AxesSubplot:ylabel='Frequency'>"
      ]
     },
     "execution_count": 54,
     "metadata": {},
     "output_type": "execute_result"
    },
    {
     "data": {
      "image/png": "[encoded data removed]",
      "text/plain": [
       "<Figure size 432x288 with 1 Axes>"
      ]
     },
     "metadata": {
      "needs_background": "light"
     },
     "output_type": "display_data"
    }
   ],
   "source": [
    "nbaPlayersStats['ORB'].plot(kind='hist', bins = 10)"
   ]
  },
  {
   "cell_type": "code",
   "execution_count": 55,
   "metadata": {},
   "outputs": [
    {
     "data": {
      "text/plain": [
       "<AxesSubplot:ylabel='Frequency'>"
      ]
     },
     "execution_count": 55,
     "metadata": {},
     "output_type": "execute_result"
    },
    {
     "data": {
      "image/png": "[encoded data removed]",
      "text/plain": [
       "<Figure size 432x288 with 1 Axes>"
      ]
     },
     "metadata": {
      "needs_background": "light"
     },
     "output_type": "display_data"
    }
   ],
   "source": [
    "nbaPlayersStats['DRB'].plot(kind='hist', bins = 10)"
   ]
  },
  {
   "cell_type": "code",
   "execution_count": 56,
   "metadata": {},
   "outputs": [
    {
     "data": {
      "text/plain": [
       "<AxesSubplot:ylabel='Frequency'>"
      ]
     },
     "execution_count": 56,
     "metadata": {},
     "output_type": "execute_result"
    },
    {
     "data": {
      "image/png": "[encoded data removed]",
      "text/plain": [
       "<Figure size 432x288 with 1 Axes>"
      ]
     },
     "metadata": {
      "needs_background": "light"
     },
     "output_type": "display_data"
    }
   ],
   "source": [
    "nbaPlayersStats['TRB'].plot(kind='hist', bins = 10)"
   ]
  },
  {
   "cell_type": "code",
   "execution_count": 57,
   "metadata": {},
   "outputs": [
    {
     "data": {
      "text/plain": [
       "<AxesSubplot:ylabel='Frequency'>"
      ]
     },
     "execution_count": 57,
     "metadata": {},
     "output_type": "execute_result"
    },
    {
     "data": {
      "image/png": "[encoded data removed]",
      "text/plain": [
       "<Figure size 432x288 with 1 Axes>"
      ]
     },
     "metadata": {
      "needs_background": "light"
     },
     "output_type": "display_data"
    }
   ],
   "source": [
    "nbaPlayersStats['AST'].plot(kind='hist', bins = 10)"
   ]
  },
  {
   "cell_type": "code",
   "execution_count": 58,
   "metadata": {},
   "outputs": [
    {
     "data": {
      "text/plain": [
       "<AxesSubplot:ylabel='Frequency'>"
      ]
     },
     "execution_count": 58,
     "metadata": {},
     "output_type": "execute_result"
    },
    {
     "data": {
      "image/png": "[encoded data removed]",
      "text/plain": [
       "<Figure size 432x288 with 1 Axes>"
      ]
     },
     "metadata": {
      "needs_background": "light"
     },
     "output_type": "display_data"
    }
   ],
   "source": [
    "nbaPlayersStats['STL'].plot(kind='hist', bins = 15)"
   ]
  },
  {
   "cell_type": "code",
   "execution_count": 59,
   "metadata": {},
   "outputs": [
    {
     "data": {
      "text/plain": [
       "<AxesSubplot:ylabel='Frequency'>"
      ]
     },
     "execution_count": 59,
     "metadata": {},
     "output_type": "execute_result"
    },
    {
     "data": {
      "image/png": "[encoded data removed]",
      "text/plain": [
       "<Figure size 432x288 with 1 Axes>"
      ]
     },
     "metadata": {
      "needs_background": "light"
     },
     "output_type": "display_data"
    }
   ],
   "source": [
    "nbaPlayersStats['BLK'].plot(kind='hist', bins = 15)"
   ]
  },
  {
   "cell_type": "code",
   "execution_count": 60,
   "metadata": {},
   "outputs": [
    {
     "data": {
      "text/plain": [
       "5"
      ]
     },
     "execution_count": 60,
     "metadata": {},
     "output_type": "execute_result"
    }
   ],
   "source": [
    "np.sum(nbaPlayersStats['BLK'] > 55)"
   ]
  },
  {
   "cell_type": "code",
   "execution_count": 61,
   "metadata": {},
   "outputs": [],
   "source": [
    "# Since this feature does not depend on or affect any feature, it can be safely replaced by mean value\n",
    "meanBLK = round(nbaPlayersStats['BLK'].mean())\n",
    "nbaPlayersStats['BLK'].mask(cond=(nbaPlayersStats['BLK'] > 55), other=meanBLK, inplace=True)"
   ]
  },
  {
   "cell_type": "code",
   "execution_count": 62,
   "metadata": {},
   "outputs": [
    {
     "data": {
      "text/plain": [
       "<AxesSubplot:ylabel='Frequency'>"
      ]
     },
     "execution_count": 62,
     "metadata": {},
     "output_type": "execute_result"
    },
    {
     "data": {
      "image/png": "[encoded data removed]",
      "text/plain": [
       "<Figure size 432x288 with 1 Axes>"
      ]
     },
     "metadata": {
      "needs_background": "light"
     },
     "output_type": "display_data"
    }
   ],
   "source": [
    "nbaPlayersStats['TOV'].plot(kind='hist', bins = 10)"
   ]
  },
  {
   "cell_type": "code",
   "execution_count": 63,
   "metadata": {},
   "outputs": [
    {
     "data": {
      "text/plain": [
       "<AxesSubplot:ylabel='Frequency'>"
      ]
     },
     "execution_count": 63,
     "metadata": {},
     "output_type": "execute_result"
    },
    {
     "data": {
      "image/png": "[encoded data removed]",
      "text/plain": [
       "<Figure size 432x288 with 1 Axes>"
      ]
     },
     "metadata": {
      "needs_background": "light"
     },
     "output_type": "display_data"
    }
   ],
   "source": [
    "nbaPlayersStats['PF'].plot(kind='hist', bins = 10)"
   ]
  },
  {
   "cell_type": "code",
   "execution_count": 64,
   "metadata": {},
   "outputs": [],
   "source": [
    "# Since the 'PF' column does not depend on or affect any other column. We can safely replace it with the mean value\n",
    "# Especially, there is only 1 outlier with much higher value\n",
    "meanPF = round(nbaPlayersStats['PF'].mean())\n",
    "nbaPlayersStats['PF'].mask(cond=(nbaPlayersStats['PF'] > 200), other=meanPF, inplace=True)"
   ]
  },
  {
   "cell_type": "code",
   "execution_count": 65,
   "metadata": {
    "scrolled": true
   },
   "outputs": [
    {
     "data": {
      "text/plain": [
       "<AxesSubplot:ylabel='Frequency'>"
      ]
     },
     "execution_count": 65,
     "metadata": {},
     "output_type": "execute_result"
    },
    {
     "data": {
      "image/png": "[encoded data removed]",
      "text/plain": [
       "<Figure size 432x288 with 1 Axes>"
      ]
     },
     "metadata": {
      "needs_background": "light"
     },
     "output_type": "display_data"
    }
   ],
   "source": [
    "nbaPlayersStats['PTS'].plot(kind='hist', bins = 10)"
   ]
  },
  {
   "cell_type": "code",
   "execution_count": 66,
   "metadata": {},
   "outputs": [
    {
     "data": {
      "text/plain": [
       "(429, 29)"
      ]
     },
     "execution_count": 66,
     "metadata": {},
     "output_type": "execute_result"
    }
   ],
   "source": [
    "nbaPlayersStats.shape"
   ]
  },
  {
   "cell_type": "code",
   "execution_count": 67,
   "metadata": {},
   "outputs": [],
   "source": [
    "nbaPlayersStats.to_csv('cleaned_NBA_players_stats.csv', sep=',', index=False)"
   ]
  },
  {
   "cell_type": "markdown",
   "metadata": {
    "id": "r-i5aIqXpPbu"
   },
   "source": [
    "# Task 2: Data Exploration"
   ]
  },
  {
   "cell_type": "markdown",
   "metadata": {
    "id": "QOY4K_neos9j"
   },
   "source": [
    "## Task 2.1 \n",
    "Explore the players' total points: Please analyze the composition of the total points of the top five players with the most points."
   ]
  },
  {
   "cell_type": "code",
   "execution_count": 68,
   "metadata": {
    "id": "ziwtOfWJn-Eh",
    "scrolled": true
   },
   "outputs": [
    {
     "data": {
      "text/html": [
       "<div>\n",
       "<style scoped>\n",
       "    .dataframe tbody tr th:only-of-type {\n",
       "        vertical-align: middle;\n",
       "    }\n",
       "\n",
       "    .dataframe tbody tr th {\n",
       "        vertical-align: top;\n",
       "    }\n",
       "\n",
       "    .dataframe thead th {\n",
       "        text-align: right;\n",
       "    }\n",
       "</style>\n",
       "<table border=\"1\" class=\"dataframe\">\n",
       "  <thead>\n",
       "    <tr style=\"text-align: right;\">\n",
       "      <th></th>\n",
       "      <th>Rk</th>\n",
       "      <th>Player</th>\n",
       "      <th>Pos</th>\n",
       "      <th>Age</th>\n",
       "      <th>Tm</th>\n",
       "      <th>G</th>\n",
       "      <th>GS</th>\n",
       "      <th>MP</th>\n",
       "      <th>FG</th>\n",
       "      <th>FGA</th>\n",
       "      <th>...</th>\n",
       "      <th>FT%</th>\n",
       "      <th>ORB</th>\n",
       "      <th>DRB</th>\n",
       "      <th>TRB</th>\n",
       "      <th>AST</th>\n",
       "      <th>STL</th>\n",
       "      <th>BLK</th>\n",
       "      <th>TOV</th>\n",
       "      <th>PF</th>\n",
       "      <th>PTS</th>\n",
       "    </tr>\n",
       "  </thead>\n",
       "  <tbody>\n",
       "    <tr>\n",
       "      <th>0</th>\n",
       "      <td>3</td>\n",
       "      <td>Steven Adams</td>\n",
       "      <td>C</td>\n",
       "      <td>27</td>\n",
       "      <td>NOP</td>\n",
       "      <td>33</td>\n",
       "      <td>33</td>\n",
       "      <td>918</td>\n",
       "      <td>115</td>\n",
       "      <td>187</td>\n",
       "      <td>...</td>\n",
       "      <td>0.443</td>\n",
       "      <td>133</td>\n",
       "      <td>161</td>\n",
       "      <td>294</td>\n",
       "      <td>69</td>\n",
       "      <td>29</td>\n",
       "      <td>20</td>\n",
       "      <td>50</td>\n",
       "      <td>63</td>\n",
       "      <td>265</td>\n",
       "    </tr>\n",
       "    <tr>\n",
       "      <th>1</th>\n",
       "      <td>4</td>\n",
       "      <td>Bam Adebayo</td>\n",
       "      <td>C</td>\n",
       "      <td>23</td>\n",
       "      <td>MIA</td>\n",
       "      <td>33</td>\n",
       "      <td>33</td>\n",
       "      <td>1119</td>\n",
       "      <td>236</td>\n",
       "      <td>419</td>\n",
       "      <td>...</td>\n",
       "      <td>0.847</td>\n",
       "      <td>72</td>\n",
       "      <td>241</td>\n",
       "      <td>313</td>\n",
       "      <td>179</td>\n",
       "      <td>29</td>\n",
       "      <td>34</td>\n",
       "      <td>98</td>\n",
       "      <td>80</td>\n",
       "      <td>634</td>\n",
       "    </tr>\n",
       "    <tr>\n",
       "      <th>2</th>\n",
       "      <td>5</td>\n",
       "      <td>LaMarcus Aldridge</td>\n",
       "      <td>C</td>\n",
       "      <td>35</td>\n",
       "      <td>SAS</td>\n",
       "      <td>21</td>\n",
       "      <td>18</td>\n",
       "      <td>544</td>\n",
       "      <td>115</td>\n",
       "      <td>248</td>\n",
       "      <td>...</td>\n",
       "      <td>0.838</td>\n",
       "      <td>17</td>\n",
       "      <td>77</td>\n",
       "      <td>94</td>\n",
       "      <td>36</td>\n",
       "      <td>8</td>\n",
       "      <td>18</td>\n",
       "      <td>20</td>\n",
       "      <td>36</td>\n",
       "      <td>288</td>\n",
       "    </tr>\n",
       "    <tr>\n",
       "      <th>3</th>\n",
       "      <td>7</td>\n",
       "      <td>Nickeil Alexander-Walker</td>\n",
       "      <td>SG</td>\n",
       "      <td>22</td>\n",
       "      <td>NOP</td>\n",
       "      <td>28</td>\n",
       "      <td>3</td>\n",
       "      <td>495</td>\n",
       "      <td>86</td>\n",
       "      <td>211</td>\n",
       "      <td>...</td>\n",
       "      <td>0.800</td>\n",
       "      <td>5</td>\n",
       "      <td>61</td>\n",
       "      <td>66</td>\n",
       "      <td>54</td>\n",
       "      <td>28</td>\n",
       "      <td>9</td>\n",
       "      <td>32</td>\n",
       "      <td>44</td>\n",
       "      <td>230</td>\n",
       "    </tr>\n",
       "    <tr>\n",
       "      <th>4</th>\n",
       "      <td>8</td>\n",
       "      <td>Grayson Allen</td>\n",
       "      <td>SG</td>\n",
       "      <td>25</td>\n",
       "      <td>MEM</td>\n",
       "      <td>23</td>\n",
       "      <td>12</td>\n",
       "      <td>551</td>\n",
       "      <td>67</td>\n",
       "      <td>164</td>\n",
       "      <td>...</td>\n",
       "      <td>0.895</td>\n",
       "      <td>8</td>\n",
       "      <td>57</td>\n",
       "      <td>65</td>\n",
       "      <td>50</td>\n",
       "      <td>23</td>\n",
       "      <td>3</td>\n",
       "      <td>21</td>\n",
       "      <td>30</td>\n",
       "      <td>214</td>\n",
       "    </tr>\n",
       "  </tbody>\n",
       "</table>\n",
       "<p>5 rows × 29 columns</p>\n",
       "</div>"
      ],
      "text/plain": [
       "   Rk                    Player Pos  Age   Tm   G  GS    MP   FG  FGA  ...  \\\n",
       "0   3              Steven Adams   C   27  NOP  33  33   918  115  187  ...   \n",
       "1   4               Bam Adebayo   C   23  MIA  33  33  1119  236  419  ...   \n",
       "2   5         LaMarcus Aldridge   C   35  SAS  21  18   544  115  248  ...   \n",
       "3   7  Nickeil Alexander-Walker  SG   22  NOP  28   3   495   86  211  ...   \n",
       "4   8             Grayson Allen  SG   25  MEM  23  12   551   67  164  ...   \n",
       "\n",
       "     FT%  ORB  DRB  TRB  AST  STL  BLK  TOV  PF  PTS  \n",
       "0  0.443  133  161  294   69   29   20   50  63  265  \n",
       "1  0.847   72  241  313  179   29   34   98  80  634  \n",
       "2  0.838   17   77   94   36    8   18   20  36  288  \n",
       "3  0.800    5   61   66   54   28    9   32  44  230  \n",
       "4  0.895    8   57   65   50   23    3   21  30  214  \n",
       "\n",
       "[5 rows x 29 columns]"
      ]
     },
     "execution_count": 68,
     "metadata": {},
     "output_type": "execute_result"
    }
   ],
   "source": [
    "# Code goes after this line by adding cells\n",
    "filename = 'cleaned_NBA_players_stats.csv'\n",
    "nbaPlayersStats = pd.read_csv(filename, sep=',', decimal='.')\n",
    "nbaPlayersStats.head()"
   ]
  },
  {
   "cell_type": "code",
   "execution_count": 69,
   "metadata": {},
   "outputs": [
    {
     "data": {
      "text/plain": [
       "(429, 29)"
      ]
     },
     "execution_count": 69,
     "metadata": {},
     "output_type": "execute_result"
    }
   ],
   "source": [
    "nbaPlayersStats.shape"
   ]
  },
  {
   "cell_type": "code",
   "execution_count": 70,
   "metadata": {},
   "outputs": [
    {
     "data": {
      "text/html": [
       "<div>\n",
       "<style scoped>\n",
       "    .dataframe tbody tr th:only-of-type {\n",
       "        vertical-align: middle;\n",
       "    }\n",
       "\n",
       "    .dataframe tbody tr th {\n",
       "        vertical-align: top;\n",
       "    }\n",
       "\n",
       "    .dataframe thead th {\n",
       "        text-align: right;\n",
       "    }\n",
       "</style>\n",
       "<table border=\"1\" class=\"dataframe\">\n",
       "  <thead>\n",
       "    <tr style=\"text-align: right;\">\n",
       "      <th></th>\n",
       "      <th>Player</th>\n",
       "      <th>3P</th>\n",
       "      <th>2P</th>\n",
       "      <th>FT</th>\n",
       "      <th>PTS</th>\n",
       "    </tr>\n",
       "  </thead>\n",
       "  <tbody>\n",
       "    <tr>\n",
       "      <th>197</th>\n",
       "      <td>Nikola Jokić</td>\n",
       "      <td>56</td>\n",
       "      <td>323</td>\n",
       "      <td>163</td>\n",
       "      <td>977</td>\n",
       "    </tr>\n",
       "    <tr>\n",
       "      <th>218</th>\n",
       "      <td>Zach LaVine</td>\n",
       "      <td>120</td>\n",
       "      <td>230</td>\n",
       "      <td>156</td>\n",
       "      <td>976</td>\n",
       "    </tr>\n",
       "    <tr>\n",
       "      <th>189</th>\n",
       "      <td>LeBron James</td>\n",
       "      <td>86</td>\n",
       "      <td>264</td>\n",
       "      <td>144</td>\n",
       "      <td>930</td>\n",
       "    </tr>\n",
       "    <tr>\n",
       "      <th>97</th>\n",
       "      <td>Luka Dončić</td>\n",
       "      <td>85</td>\n",
       "      <td>234</td>\n",
       "      <td>193</td>\n",
       "      <td>916</td>\n",
       "    </tr>\n",
       "    <tr>\n",
       "      <th>396</th>\n",
       "      <td>Nikola Vučević</td>\n",
       "      <td>96</td>\n",
       "      <td>259</td>\n",
       "      <td>80</td>\n",
       "      <td>886</td>\n",
       "    </tr>\n",
       "  </tbody>\n",
       "</table>\n",
       "</div>"
      ],
      "text/plain": [
       "             Player   3P   2P   FT  PTS\n",
       "197    Nikola Jokić   56  323  163  977\n",
       "218     Zach LaVine  120  230  156  976\n",
       "189    LeBron James   86  264  144  930\n",
       "97      Luka Dončić   85  234  193  916\n",
       "396  Nikola Vučević   96  259   80  886"
      ]
     },
     "execution_count": 70,
     "metadata": {},
     "output_type": "execute_result"
    }
   ],
   "source": [
    "# Extract top 5 players with highest total points\n",
    "top5Players = (nbaPlayersStats.nlargest(5,'PTS'))[['Player', '3P', '2P', 'FT', 'PTS']]\n",
    "\n",
    "# Print top 5 players\n",
    "top5Players"
   ]
  },
  {
   "cell_type": "code",
   "execution_count": 71,
   "metadata": {},
   "outputs": [
    {
     "data": {
      "text/plain": [
       "Text(0, 0.5, 'Points Contributed (Goal)')"
      ]
     },
     "execution_count": 71,
     "metadata": {},
     "output_type": "execute_result"
    },
    {
     "data": {
      "image/png": "[encoded data removed]",
      "text/plain": [
       "<Figure size 432x288 with 1 Axes>"
      ]
     },
     "metadata": {
      "needs_background": "light"
     },
     "output_type": "display_data"
    }
   ],
   "source": [
    "X_AXIS = top5Players['PTS']\n",
    "POINT_3 = top5Players['3P'].values\n",
    "POINT_2 = top5Players['2P'].values\n",
    "FREE_THROW = top5Players['FT'].values\n",
    "\n",
    "plotdata = pd.DataFrame({\n",
    "    \"3P\": POINT_3,\n",
    "    \"2P\": POINT_2,\n",
    "    \"FT\": FREE_THROW\n",
    "    }, index=X_AXIS\n",
    ")\n",
    "\n",
    "plotdata.plot(kind=\"bar\", stacked=True)\n",
    "plt.title(\"Player's total points composition\")\n",
    "plt.xlabel(\"Total points for 5 players\")\n",
    "plt.ylabel(\"Points Contributed (Goal)\")"
   ]
  },
  {
   "cell_type": "code",
   "execution_count": 72,
   "metadata": {},
   "outputs": [
    {
     "data": {
      "text/plain": [
       "Text(0, 0.5, 'Points Contributed (Point)')"
      ]
     },
     "execution_count": 72,
     "metadata": {},
     "output_type": "execute_result"
    },
    {
     "data": {
      "image/png": "[encoded data removed]",
      "text/plain": [
       "<Figure size 432x288 with 1 Axes>"
      ]
     },
     "metadata": {
      "needs_background": "light"
     },
     "output_type": "display_data"
    }
   ],
   "source": [
    "X_AXIS = top5Players['PTS']\n",
    "POINT_3 = (3*top5Players['3P']).values\n",
    "POINT_2 = (2*top5Players['2P']).values\n",
    "FREE_THROW = top5Players['FT'].values\n",
    "\n",
    "plotdata = pd.DataFrame({\n",
    "    \"3P\": POINT_3,\n",
    "    \"2P\": POINT_2,\n",
    "    \"FT\": FREE_THROW\n",
    "    }, index=X_AXIS\n",
    ")\n",
    "\n",
    "plotdata.plot(kind=\"bar\", stacked=True)\n",
    "plt.title(\"Player's total points composition\")\n",
    "plt.xlabel(\"Total points for 5 players\")\n",
    "plt.ylabel(\"Points Contributed (Point)\")"
   ]
  },
  {
   "cell_type": "code",
   "execution_count": 73,
   "metadata": {},
   "outputs": [
    {
     "name": "stdout",
     "output_type": "stream",
     "text": [
      "Total points composition for the player with the highest total points: \n",
      "\n",
      "The percentage of 2-Point Field Goals is: 66.0 \n",
      "\n",
      "The percentage of 3-Point Field Goals is: 17.0 \n",
      "\n",
      "The percentage of Free Throws is: 17.0 \n",
      "\n"
     ]
    }
   ],
   "source": [
    "# Analyze the points from first player\n",
    "highestPointsPlayer = top5Players.head(1)\n",
    "totalPoints = highestPointsPlayer['PTS']\n",
    "goals2P_Percent = round((2*highestPointsPlayer['2P']/totalPoints)*100)\n",
    "goals3P_Percent = round((3*highestPointsPlayer['3P']/totalPoints)*100)\n",
    "goalsFT_Percent = 100 - goals2P_Percent - goals3P_Percent\n",
    "print(\"Total points composition for the player with the highest total points: \\n\")\n",
    "print(f\"The percentage of 2-Point Field Goals is: {goals2P_Percent.iloc[0]} \\n\")\n",
    "print(f\"The percentage of 3-Point Field Goals is: {goals3P_Percent.iloc[0]} \\n\")\n",
    "print(f\"The percentage of Free Throws is: {goalsFT_Percent.iloc[0]} \\n\")"
   ]
  },
  {
   "cell_type": "code",
   "execution_count": 74,
   "metadata": {
    "scrolled": true
   },
   "outputs": [
    {
     "name": "stdout",
     "output_type": "stream",
     "text": [
      "Total points composition for the player with the highest total points: \n",
      "\n",
      "The percentage of 3-Point Field Goals to the total number of goals is: 24.0 \n",
      "\n",
      "The percentage of 3-Point Field Goals to the total points is: 37.0 \n",
      "\n"
     ]
    }
   ],
   "source": [
    "# Analyze the 3P contributes to the total points of second player\n",
    "secondPlayer = top5Players.iloc[[1]]\n",
    "\n",
    "goals_3P_percentage = round(secondPlayer['3P']/(secondPlayer['2P'] + secondPlayer['3P'] + secondPlayer['FT'])*100)\n",
    "\n",
    "points_3P_percentage = round((3*secondPlayer['3P'])/secondPlayer['PTS']*100)\n",
    "\n",
    "print(\"Total points composition for the player with the highest total points: \\n\")\n",
    "print(f\"The percentage of 3-Point Field Goals to the total number of goals is: {goals_3P_percentage.iloc[0]} \\n\")\n",
    "print(f\"The percentage of 3-Point Field Goals to the total points is: {points_3P_percentage.iloc[0]} \\n\")"
   ]
  },
  {
   "cell_type": "code",
   "execution_count": 75,
   "metadata": {},
   "outputs": [
    {
     "name": "stdout",
     "output_type": "stream",
     "text": [
      "The percentage of 2P contributed to total points: \n",
      "\n",
      "Second player: 47.0 \n",
      "\n",
      "Third player: 57.0 \n",
      "\n",
      "Fourth player: 51.0 \n",
      "\n",
      "Last player: 58.0 \n",
      "\n",
      "The percentage of 3P contributed to total points: \n",
      "\n",
      "Second player: 37.0 \n",
      "\n",
      "Third player: 28.0 \n",
      "\n",
      "Fourth player: 28.0 \n",
      "\n",
      "Last player: 33.0 \n",
      "\n",
      "The percentage of FT contributed to total points: \n",
      "\n",
      "Second player: 16.0 \n",
      "\n",
      "Third player: 15.0 \n",
      "\n",
      "Fourth player: 21.0 \n",
      "\n",
      "Last player: 9.0 \n",
      "\n"
     ]
    }
   ],
   "source": [
    "second = top5Players.iloc[[1]]\n",
    "third = top5Players.iloc[[2]]\n",
    "fourth = top5Players.iloc[[3]]\n",
    "last = top5Players.iloc[[4]]\n",
    "\n",
    "second_2P = round(2*second['2P']/second['PTS']*100).iloc[0]\n",
    "third_2P = round(2*third['2P']/third['PTS']*100).iloc[0]\n",
    "fourth_2P = round(2*fourth['2P']/fourth['PTS']*100).iloc[0]\n",
    "last_2P = round(2*last['2P']/last['PTS']*100).iloc[0]\n",
    "\n",
    "\n",
    "second_3P = round(3*second['3P']/second['PTS']*100).iloc[0]\n",
    "third_3P = round(3*third['3P']/third['PTS']*100).iloc[0]\n",
    "fourth_3P = round(3*fourth['3P']/fourth['PTS']*100).iloc[0]\n",
    "last_3P = round(3*last['3P']/last['PTS']*100).iloc[0]\n",
    "\n",
    "second_FT = round(second['FT']/second['PTS']*100).iloc[0]\n",
    "third_FT = round(third['FT']/third['PTS']*100).iloc[0]\n",
    "fourth_FT = round(fourth['FT']/fourth['PTS']*100).iloc[0]\n",
    "last_FT = round(last['FT']/last['PTS']*100).iloc[0]\n",
    "\n",
    "print(\"The percentage of 2P contributed to total points: \\n\")\n",
    "print(f\"Second player: {second_2P} \\n\")\n",
    "print(f\"Third player: {third_2P} \\n\")\n",
    "print(f\"Fourth player: {fourth_2P} \\n\")\n",
    "print(f\"Last player: {last_2P} \\n\")\n",
    "\n",
    "print(\"The percentage of 3P contributed to total points: \\n\")\n",
    "print(f\"Second player: {second_3P} \\n\")\n",
    "print(f\"Third player: {third_3P} \\n\")\n",
    "print(f\"Fourth player: {fourth_3P} \\n\")\n",
    "print(f\"Last player: {last_3P} \\n\")\n",
    "\n",
    "print(\"The percentage of FT contributed to total points: \\n\")\n",
    "print(f\"Second player: {second_FT} \\n\")\n",
    "print(f\"Third player: {third_FT} \\n\")\n",
    "print(f\"Fourth player: {fourth_FT} \\n\")\n",
    "print(f\"Last player: {last_FT} \\n\")"
   ]
  },
  {
   "cell_type": "markdown",
   "metadata": {
    "id": "0-HLFaWTo7Gr"
   },
   "source": [
    "## Task 2.2 \n",
    "Assuming that the data collector makes an entry error when collecting data, it can be ensured that the error occurred in the 3P, 3PA and 3P% columns, but it is not sure which player's information the error lies on. Please try to explore the error by visualization to identify how many errors there are and try to fix it.\n"
   ]
  },
  {
   "cell_type": "code",
   "execution_count": 76,
   "metadata": {
    "id": "k3-8Pbi1n-Ei"
   },
   "outputs": [
    {
     "name": "stdout",
     "output_type": "stream",
     "text": [
      "   Rk             Player Pos  Age    Tm   G  GS    MP   FG  FGA  ...    FT%  \\\n",
      "0   1   Precious Achiuwa  PF   21   MIA  35   2   491   84  145  ...  0.543   \n",
      "1   2       Jaylen Adams  PG   24   MIL   7   0    18    1    8  ...    NaN   \n",
      "2   3       Steven Adams   C   27   NOP  33  33   918  115  187  ...  0.443   \n",
      "3   4        Bam Adebayo   C   23   MIA  33  33  1119  236  419  ...  0.847   \n",
      "4   5  LaMarcus Aldridge   C   35  SAS   21  18   544  115  248  ...  0.838   \n",
      "\n",
      "   ORB  DRB  TRB  AST  STL  BLK  TOV  PF    PTS  \n",
      "0   46   95  141   20   15   19   32  58    212  \n",
      "1    0    3    3    2    0    0    0   1  20000  \n",
      "2  133  161  294   69   29   20   50  63    265  \n",
      "3   72  241  313  179   29   34   98  80    634  \n",
      "4   17   77   94   36    8   18   20  36  28800  \n",
      "\n",
      "[5 rows x 29 columns]\n",
      "   Rk             Player Pos  Age    Tm   G  GS    MP   FG  FGA  ...    FT%  \\\n",
      "0   1   Precious Achiuwa  PF   21   MIA  35   2   491   84  145  ...  0.543   \n",
      "1   2       Jaylen Adams  PG   24   MIL   7   0    18    1    8  ...    NaN   \n",
      "2   3       Steven Adams   C   27   NOP  33  33   918  115  187  ...  0.443   \n",
      "3   4        Bam Adebayo   C   23   MIA  33  33  1119  236  419  ...  0.847   \n",
      "4   5  LaMarcus Aldridge   C   35  SAS   21  18   544  115  248  ...  0.838   \n",
      "\n",
      "   ORB  DRB  TRB  AST  STL  BLK  TOV  PF    PTS  \n",
      "0   46   95  141   20   15   19   32  58    212  \n",
      "1    0    3    3    2    0    0    0   1  20000  \n",
      "2  133  161  294   69   29   20   50  63    265  \n",
      "3   72  241  313  179   29   34   98  80    634  \n",
      "4   17   77   94   36    8   18   20  36  28800  \n",
      "\n",
      "[5 rows x 29 columns]\n"
     ]
    }
   ],
   "source": [
    "# Code goes after this line by adding cells\n",
    "filename = 'NBA_players_stats.csv'\n",
    "originalDataset = pd.read_csv(filename, sep=',', decimal='.')\n",
    "updatingDataset = pd.read_csv(filename, sep=',', decimal='.')\n",
    "print(originalDataset.head())\n",
    "print(updatingDataset.head())"
   ]
  },
  {
   "cell_type": "code",
   "execution_count": 77,
   "metadata": {},
   "outputs": [],
   "source": [
    "updatingDataset = updatingDataset[updatingDataset['3PA'] != 0]\n",
    "originalDataset = originalDataset[originalDataset['3PA'] != 0]"
   ]
  },
  {
   "cell_type": "code",
   "execution_count": 78,
   "metadata": {},
   "outputs": [],
   "source": [
    "updatingDataset['3P%'] = round((updatingDataset['3P']/updatingDataset['3PA']), 3)"
   ]
  },
  {
   "cell_type": "code",
   "execution_count": 79,
   "metadata": {},
   "outputs": [
    {
     "data": {
      "text/plain": [
       "Text(0, 0.5, 'Density')"
      ]
     },
     "execution_count": 79,
     "metadata": {},
     "output_type": "execute_result"
    },
    {
     "data": {
      "image/png": "[encoded data removed]",
      "text/plain": [
       "<Figure size 432x288 with 1 Axes>"
      ]
     },
     "metadata": {
      "needs_background": "light"
     },
     "output_type": "display_data"
    }
   ],
   "source": [
    "plt.hist(updatingDataset['3P%'], histtype='step', bins=50, alpha=0.4,\n",
    "     label=\"updating 3P%\", color=\"blue\", density=True)\n",
    "plt.legend(loc=\"upper left\")\n",
    "\n",
    "\n",
    "plt.hist(originalDataset['3P%'], histtype='step', bins=50, alpha=0.4,\n",
    "     label=\"original 3P%\", color=\"purple\", density=True)\n",
    "plt.legend(loc=\"upper left\")\n",
    "\n",
    "plt.title('Figure 3: Distribution of 3-Point Field Goal Percentage')\n",
    "plt.xlabel('Count')\n",
    "plt.ylabel('Density')"
   ]
  },
  {
   "cell_type": "code",
   "execution_count": 80,
   "metadata": {},
   "outputs": [
    {
     "data": {
      "text/plain": [
       "71"
      ]
     },
     "execution_count": 80,
     "metadata": {},
     "output_type": "execute_result"
    }
   ],
   "source": [
    "np.sum(originalDataset['3P%'] != updatingDataset['3P%'])"
   ]
  },
  {
   "cell_type": "markdown",
   "metadata": {
    "id": "jnasiwOAo_RP"
   },
   "source": [
    "## Task 2.3 \n",
    "Please analyze the relationship between the player's total points and the rest features (columns). Please use at least three other columns.\n"
   ]
  },
  {
   "cell_type": "code",
   "execution_count": 81,
   "metadata": {
    "id": "hHsmCb2gn-Ei"
   },
   "outputs": [
    {
     "name": "stderr",
     "output_type": "stream",
     "text": [
      "C:\\ProgramData\\Anaconda3\\lib\\site-packages\\seaborn\\_decorators.py:36: FutureWarning: Pass the following variables as keyword args: x, y. From version 0.12, the only valid positional argument will be `data`, and passing other arguments without an explicit keyword will result in an error or misinterpretation.\n",
      "  warnings.warn(\n"
     ]
    },
    {
     "data": {
      "image/png": "[encoded data removed]",
      "text/plain": [
       "<Figure size 432x288 with 1 Axes>"
      ]
     },
     "metadata": {
      "needs_background": "light"
     },
     "output_type": "display_data"
    }
   ],
   "source": [
    "# Code goes after this line by adding cells\n",
    "# Creating a scatter plot\n",
    "sns.scatterplot(nbaPlayersStats['G'], nbaPlayersStats['PTS'], hue = nbaPlayersStats['GS'])\n",
    "plt.title('Scatterplot of total points by number of games, coloured by number of games played as starter')\n",
    "plt.show()"
   ]
  },
  {
   "cell_type": "code",
   "execution_count": 82,
   "metadata": {},
   "outputs": [
    {
     "data": {
      "image/png": "[encoded data removed]",
      "text/plain": [
       "<Figure size 432x288 with 1 Axes>"
      ]
     },
     "metadata": {
      "needs_background": "light"
     },
     "output_type": "display_data"
    }
   ],
   "source": [
    "#Plotting the graph\n",
    "x = nbaPlayersStats['PTS']\n",
    "y = nbaPlayersStats['FGA']\n",
    "plt.scatter(x,y)\n",
    "plt.title('Figure 6: Field goal attempts vs. Total points')\n",
    "plt.xlabel('Total points')\n",
    "plt.ylabel('Field goal attempts')\n",
    "plt.show();"
   ]
  },
  {
   "cell_type": "code",
   "execution_count": 83,
   "metadata": {},
   "outputs": [
    {
     "data": {
      "image/png": "[encoded data removed]",
      "text/plain": [
       "<Figure size 432x288 with 1 Axes>"
      ]
     },
     "metadata": {
      "needs_background": "light"
     },
     "output_type": "display_data"
    }
   ],
   "source": [
    "#Plotting the graph\n",
    "x = nbaPlayersStats['PTS']\n",
    "y = nbaPlayersStats['FT']\n",
    "plt.scatter(x,y)\n",
    "plt.title('Figure 5: Free throws vs. Total points')\n",
    "plt.xlabel('Total points')\n",
    "plt.ylabel('Free throws')\n",
    "plt.show();"
   ]
  }
 ],
 "metadata": {
  "colab": {
   "collapsed_sections": [],
   "name": "assignment1_TEMPLATE.ipynb",
   "provenance": [],
   "toc_visible": true
  },
  "kernelspec": {
   "display_name": "Python 3",
   "language": "python",
   "name": "python3"
  },
  "language_info": {
   "codemirror_mode": {
    "name": "ipython",
    "version": 3
   },
   "file_extension": ".py",
   "mimetype": "text/x-python",
   "name": "python",
   "nbconvert_exporter": "python",
   "pygments_lexer": "ipython3",
   "version": "3.8.8"
  }
 },
 "nbformat": 4,
 "nbformat_minor": 1
}
